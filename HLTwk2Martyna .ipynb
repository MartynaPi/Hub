{
 "metadata": {
  "language_info": {
   "codemirror_mode": {
    "name": "ipython",
    "version": 3
   },
   "file_extension": ".py",
   "mimetype": "text/x-python",
   "name": "python",
   "nbconvert_exporter": "python",
   "pygments_lexer": "ipython3",
   "version": 3
  },
  "orig_nbformat": 4
 },
 "nbformat": 4,
 "nbformat_minor": 2,
 "cells": [
  {
   "cell_type": "code",
   "execution_count": null,
   "source": [],
   "outputs": [],
   "metadata": {}
  },
  {
   "cell_type": "code",
   "execution_count": null,
   "source": [
    "#Task 2\r\n",
    "def multiple(num1,num2):\r\n",
    "    return num1*num2\r\n",
    "\r\n",
    "num1=2000\r\n",
    "num2=0.9\r\n",
    "\r\n",
    "print(multiple(num1,num2))"
   ],
   "outputs": [],
   "metadata": {}
  }
 ]
}