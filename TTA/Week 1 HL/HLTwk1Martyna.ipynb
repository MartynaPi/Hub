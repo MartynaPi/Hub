{
 "metadata": {
  "language_info": {
   "codemirror_mode": {
    "name": "ipython",
    "version": 3
   },
   "file_extension": ".py",
   "mimetype": "text/x-python",
   "name": "python",
   "nbconvert_exporter": "python",
   "pygments_lexer": "ipython3",
   "version": 3
  },
  "orig_nbformat": 4
 },
 "nbformat": 4,
 "nbformat_minor": 2,
 "cells": [
  {
   "cell_type": "code",
   "execution_count": null,
   "metadata": {},
   "outputs": [],
   "source": [
    "#Task 1\n",
    "import random\n",
    "myName = input (\"Hello! What is your name?\")\n",
    "number = random.randint (1,10)\n",
    "print(\"Well, \" + myName + \"I am thinking about number between 1 and 10.\")\n",
    "guess = int(input(\"Take a guess:\"))\n",
    "\n",
    "if guess == number:\n",
    " print(\"Good job\", + myName + \"! You guessed my number\")\n",
    "else:\n",
    " print(\"Wrong, better luck next time\")"
   ]
  },
  {
   "cell_type": "code",
   "execution_count": null,
   "metadata": {},
   "outputs": [],
   "source": [
    "#Task 2\n",
    "user_input = input(\"Hey, what's your favorite number between 1 and 100?\")\n",
    "if user_input == \"35\":\n",
    "    print(\"What's Forrest Gump's password? 1forrest1\")\n",
    "elif user_input == \"20\":\n",
    "    print(\"I have a clean conscious—it's never been used.\")\n",
    "else:\n",
    "    print(\"What kind of milk comes from a pampered cow? Spoiled milk.\")"
   ]
  },
  {
   "cell_type": "code",
   "execution_count": null,
   "metadata": {},
   "outputs": [],
   "source": [
    "#Task 3\n",
    "first = input(\"Hey, what's your favorite starter?\")\n",
    "second = input(\"Sounds delicious! And what is your favourite main course? \")\n",
    "third = input(\"Great! Time for dessert. What is your favourite one?\")\n",
    "fourth = input(\"Yummy! How about the drink? Which one is your No.1?\")\n",
    "\n",
    "print(\"Your favorite meal is\" + first,\"followed by\" + second, \"followed by\" + third, \"with a glass of\" + fourth)"
   ]
  },
  {
   "cell_type": "code",
   "execution_count": null,
   "metadata": {},
   "outputs": [],
   "source": [
    "#Task 4\n",
    "price = 2000\n",
    "while price >1000:\n",
    " print (price)\n",
    " price = price*0.9"
   ]
  }
 ]
}