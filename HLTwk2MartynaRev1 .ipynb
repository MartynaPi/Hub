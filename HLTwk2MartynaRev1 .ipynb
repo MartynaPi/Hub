{
 "metadata": {
  "language_info": {
   "codemirror_mode": {
    "name": "ipython",
    "version": 3
   },
   "file_extension": ".py",
   "mimetype": "text/x-python",
   "name": "python",
   "nbconvert_exporter": "python",
   "pygments_lexer": "ipython3",
   "version": 3
  },
  "orig_nbformat": 4
 },
 "nbformat": 4,
 "nbformat_minor": 2,
 "cells": [
  {
   "cell_type": "code",
   "execution_count": null,
   "source": [
    "#As an extension to the motorbike task that costs £2000 and loses 10% of its value every year. Set up\r\n",
    "#a function that performs the calculation by passing\r\n",
    "#in parameters. Then using a loop, print the value of\r\n",
    "#the bike every following year until it falls below £\r\n",
    "\r\n",
    "#As an extension to the motorbike task that costs £2000 and loses 10% of its value every year. Set up\r\n",
    "#a function that performs the calculation by passing in parameters. Then using a loop, print the value of\r\n",
    "#the bike every following year until it falls below £\r\n",
    "\r\n",
    "#Task 4\r\n",
    "price = 2000\r\n",
    "while price >1000:\r\n",
    " print (price)\r\n",
    " price = price*0.9\r\n",
    "\r\n",
    " def procedure _1()\r\n",
    "\r\n",
    "\r\n",
    "\r\n",
    "# Write a program which will ask for two numbers from a user. \r\n",
    "# Then offer an option menu to the user giving them a choice of maths operators.\r\n",
    "# Once the user has selected which operator they wish to use,\r\n",
    "# perform the calculation by using a procedure and passing parameters.\r\n",
    "\r\n",
    "num1 = int(input(\"Enter first number: \"))\r\n",
    "num2 = int(input(\"Enter second number: \"))\r\n",
    "\r\n",
    "print(\"Enter which operation would you like to perform?\")\r\n",
    "input1 = input(\"Enter one of these characters for specific operation +,-,*,/,**: \")\r\n",
    "\r\n",
    "result = 0\r\n",
    "if input1 == '+':\r\n",
    "    print (num1 + num2)\r\n",
    "elif input1 == '-':\r\n",
    "    print (num1 - num2)\r\n",
    "elif input1 == '/':\r\n",
    "    print (num1 / num2)\r\n",
    "elif input1 == '*':\r\n",
    "    print (num1 * num2)\r\n",
    "elif input1 == '**':\r\n",
    "    print (num1 ** num2)\r\n",
    "else:\r\n",
    "    print(\"Not found\")\r\n"
   ],
   "outputs": [],
   "metadata": {}
  },
  {
   "cell_type": "code",
   "execution_count": null,
   "source": [],
   "outputs": [],
   "metadata": {}
  }
 ]
}